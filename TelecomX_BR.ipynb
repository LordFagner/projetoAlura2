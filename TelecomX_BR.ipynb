{
  "cells": [
    {
      "cell_type": "markdown",
      "metadata": {
        "id": "view-in-github",
        "colab_type": "text"
      },
      "source": [
        "<a href=\"https://colab.research.google.com/github/LordFagner/projetoAlura2/blob/main/TelecomX_BR.ipynb\" target=\"_parent\"><img src=\"https://colab.research.google.com/assets/colab-badge.svg\" alt=\"Open In Colab\"/></a>"
      ]
    },
    {
      "cell_type": "markdown",
      "metadata": {
        "id": "4foVEKhrlqcH"
      },
      "source": [
        "#📌 Extracão"
      ]
    },
    {
      "cell_type": "code",
      "execution_count": null,
      "metadata": {
        "id": "1--uPM88l7JH"
      },
      "outputs": [],
      "source": [
        "import pandas as pd\n",
        "import matplotlib.pyplot as plt\n",
        "import seaborn as sns\n",
        "url = '/content/TelecomX_Data_com_0_e_1.csv'\n",
        "df = pd.read_csv(url)\n",
        "\n"
      ]
    },
    {
      "cell_type": "markdown",
      "metadata": {
        "id": "1lSZP8zmmGZu"
      },
      "source": [
        "#🔧 Transformação"
      ]
    },
    {
      "cell_type": "code",
      "execution_count": null,
      "metadata": {
        "id": "bsm-WTLjmHvt"
      },
      "outputs": [],
      "source": [
        "total_clientes = df['customerid'].count()\n",
        "\n",
        "total_que_permanesceram = df.query('churn == 0')['churn'].count()\n",
        "print(total_que_permanesceram)\n",
        "\n",
        "total_que_sairam = df.query('churn == 1')['churn'].count()\n",
        "pessoas_que_sairam = df.query('churn == 1')\n",
        "print(total_que_sairam)\n",
        "\n",
        "percentual_que_sairam = (total_que_sairam / total_clientes) * 100\n",
        "percentual_que_ficaram = (total_que_permanesceram / total_clientes) * 100\n",
        "\n",
        "homens_que_sairam = pessoas_que_sairam.query('gender == 2')\n",
        "mulheres_que_sairam = pessoas_que_sairam.query('gender == 1')\n",
        "\n",
        "homens_que_sairam_percentual = (homens_que_sairam['customerid'].count() / total_que_sairam) * 100\n",
        "mulheres_que_sairam_percentual = (mulheres_que_sairam['customerid'].count() / total_que_sairam) * 100\n",
        "\n",
        "mais_de_65 = df.query('seniorcitizen == 1')\n",
        "\n",
        "mais_de_65_homens_sairam = mais_de_65.query('gender == 2 and churn == 1')\n",
        "mais_de_65_mulheres_sairam = mais_de_65.query('gender == 1 and churn == 1')\n",
        "\n",
        "mais_de_65_percentual = mais_de_65['customerid'].count()\n",
        "mais_de_65_percentual_sairam = mais_de_65.query('churn == 1')['customerid'].count()\n",
        "\n",
        "com_parceiro = df.query('partner == 1')\n",
        "\n",
        "com_parceiro_homens_sairam = com_parceiro.query('gender == 2 and churn == 1')\n",
        "com_parceiro_mulheres_sairam = com_parceiro.query('gender == 1 and churn == 1')\n",
        "\n",
        "com_parceiro_total = com_parceiro['customerid'].count()\n",
        "com_parceiro_sairam = com_parceiro.query('churn == 1')['customerid'].count()\n",
        "\n",
        "com_dependentes = df.query('dependents == 1')\n",
        "\n",
        "com_dependentes_homens_sairam = com_dependentes.query('gender == 2 and churn == 1')\n",
        "com_dependentes_mulheres_sairam = com_dependentes.query('gender == 1 and churn == 1')\n",
        "\n",
        "com_dependentes_total = com_dependentes['customerid'].count()\n",
        "com_dependentes_sairam = com_dependentes.query('churn == 1')['customerid'].count()\n",
        "\n",
        "internet_e_telefone = pessoas_que_sairam.query('internetservice != 0 and phoneservice == 1')\n",
        "\n",
        "so_telefone = pessoas_que_sairam.query('phoneservice == 1 and internetservice == 0')\n",
        "\n",
        "so_internet = pessoas_que_sairam.query('internetservice != 0 and phoneservice == 0')\n",
        "\n",
        "chruns_que_usam_DSL = pessoas_que_sairam.query('internetservice == 1')\n",
        "churns_que_usam_fibra = pessoas_que_sairam.query('internetservice == 2')\n",
        "\n",
        "servicos = [\n",
        "    'onlinesecurity',\n",
        "    'onlinebackup',\n",
        "    'deviceprotection',\n",
        "    'techsupport',\n",
        "    'streamingtv',\n",
        "    'streamingmovies'\n",
        "]\n",
        "\n",
        "# Total de clientes no grupo internet_e_telefone\n",
        "total_internet_telefone = internet_e_telefone['customerid'].count()\n",
        "\n",
        "# Dicionário com porcentagem de saída para cada serviço\n",
        "servicos_porcentagens = {\n",
        "    serv: (internet_e_telefone.query(f'{serv} == 1')['customerid'].count() / total_internet_telefone) * 100\n",
        "    for serv in servicos\n",
        "}\n",
        "\n",
        "contratos_sairam = pessoas_que_sairam['contract'].value_counts().sort_index()\n",
        "contratos_ficaram = pessoas_que_ficaram['contract'].value_counts().sort_index()\n",
        "\n",
        "metodos_pagamentos_ficaram = pessoas_que_ficaram['paymentmethod'].value_counts().sort_index()\n",
        "metodos_pagamentos_sairam = pessoas_que_sairam['paymentmethod'].value_counts().sort_index()\n",
        "\n",
        "\n",
        "\n",
        "\n",
        "\n",
        "\n",
        "\n",
        "\n",
        "#bom infelizemente eu fiz a maioria no meu git hub , mais deixarei esse anexado ao git, pra vcs teremem uma noção do que foi feito\n",
        "# mais basicamente usamos muito da estrutura unique , para extrair os valores é troca-los para numericos para fins de velocidade e manopulação numerica\n",
        "#muito se baseou no seguinte exemplo  valores_para_elemento = {val : ind , for val,ind in enumerate(df['coluna'].dropna().unique().str.lower())} é após isso\n",
        "# o uso da função map para uma unica coluna , é applymap para os demais , estará constando nos comitts do github\n",
        "\n",
        "\n"
      ]
    },
    {
      "cell_type": "markdown",
      "metadata": {
        "id": "6XnTC2NTmMRL"
      },
      "source": [
        "#📊 Carga e análise"
      ]
    },
    {
      "cell_type": "code",
      "execution_count": null,
      "metadata": {
        "id": "1jgUnLqTmPdd"
      },
      "outputs": [],
      "source": [
        "\n",
        "fig , sairam_ficaram  = plt.subplots(figsize=(10, 6))\n",
        "wd,tx,at =  sairam_ficaram.pie([total_que_permanesceram, total_que_sairam], labels=['Permanesceram','Saíram'] , colors= ['r','b'], autopct='%1.1f%%',startangle=90,explode=(0,0.1),shadow=True)\n",
        "for color in at :\n",
        "    color.set_color('white')\n",
        "    color.set_fontsize(12)\n",
        "sairam_ficaram.set_title('Clientes que sairam e que permaneceram na TelecomX', fontsize=20)\n",
        "sairam_ficaram.text(0,-1.3,'o grafico possui um erro percentual de  + ou - 4% ', fontsize=12, ha = 'center',va = 'top' , color='black')\n",
        "fig2,ax = plt.subplots(2,2,figsize=(15, 12))\n",
        "\n",
        "sns.barplot(x=['homens','mulheres'] , y=[homens_que_sairam_percentual, mulheres_que_sairam_perecentual], palette=['blue', 'pink'], ax=ax[0,0])\n",
        "\n",
        "ax[0, 0].set_title('Percentual de Quem Saiu por Gênero')\n",
        "ax[0, 0].set_ylabel('Percentual (%)')\n",
        "ax[0, 0].set_ylim(0, 100)\n",
        "valores = [homens_que_sairam, mulheres_que_sairam]\n",
        "for index, value in enumerate(valores):\n",
        "    ax[0, 0].text(\n",
        "        index,                          # Posição x (posição da barra)\n",
        "        value + 2,                      # Posição y (um pouco acima da barra)\n",
        "        f'{value:.1f}%',                # Texto com 1 casa decimal\n",
        "        ha='center', fontsize=11, color='black'\n",
        "    )\n",
        "ax[0, 1].set_visible(False)  # Desativa se quiser\n",
        "ax[1, 0].set_visible(False)  # Desativa se quiser\n",
        "ax[1, 1].set_visible(False)"
      ]
    },
    {
      "cell_type": "markdown",
      "metadata": {
        "id": "v-WzfSvTmaw9"
      },
      "source": [
        "#📄Relatorio Final"
      ]
    },
    {
      "cell_type": "code",
      "execution_count": null,
      "metadata": {
        "id": "XMTac0YJmeK9"
      },
      "outputs": [],
      "source": []
    }
  ],
  "metadata": {
    "colab": {
      "provenance": [],
      "include_colab_link": true
    },
    "kernelspec": {
      "display_name": "Python 3",
      "name": "python3"
    },
    "language_info": {
      "name": "python"
    }
  },
  "nbformat": 4,
  "nbformat_minor": 0
}